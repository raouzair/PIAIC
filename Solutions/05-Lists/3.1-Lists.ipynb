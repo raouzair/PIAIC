{
 "cells": [
  {
   "cell_type": "code",
   "execution_count": 3,
   "metadata": {},
   "outputs": [
    {
     "name": "stdout",
     "output_type": "stream",
     "text": [
      "Hello worldss.\n",
      "['uzair', 'afzal', 'rana', 'akbar']\n",
      "afzal\n"
     ]
    }
   ],
   "source": [
    "\n",
    "list1 = ['uzair', 'afzal', 'rana', 'akbar']\n",
    "print(list1)\n",
    "print(list1[1])"
   ]
  },
  {
   "cell_type": "code",
   "execution_count": 5,
   "metadata": {},
   "outputs": [
    {
     "name": "stdout",
     "output_type": "stream",
     "text": [
      "uzair\n",
      "afzal\n",
      "rana\n",
      "akbar\n"
     ]
    }
   ],
   "source": [
    "print(list1[0])\n",
    "print(list1[1])\n",
    "print(list1[2])\n",
    "print(list1[3])\n"
   ]
  },
  {
   "cell_type": "code",
   "execution_count": 7,
   "metadata": {},
   "outputs": [
    {
     "name": "stdout",
     "output_type": "stream",
     "text": [
      "Hello  uzair how are you?\n",
      "Hello  afzal how are you?\n",
      "Hello  rana how are you?\n",
      "Hello  akbar how are you?\n"
     ]
    }
   ],
   "source": [
    "print('Hello ', list1[0], 'how are you?') \n",
    "print('Hello ', list1[1], 'how are you?') \n",
    "print('Hello ', list1[2], 'how are you?') \n",
    "print('Hello ', list1[3], 'how are you?') "
   ]
  },
  {
   "cell_type": "code",
   "execution_count": 8,
   "metadata": {},
   "outputs": [
    {
     "name": "stdout",
     "output_type": "stream",
     "text": [
      "For bike, I prefer  Honda . For street cars, I prefer  Toyota and for racing my choice is Ferrari .\n"
     ]
    }
   ],
   "source": [
    "list2 = ['Honda', 'Toyota', 'Ferrari']\n",
    "print('For bike, I prefer ', list2[0], '. For street cars, I prefer ', list2[1], 'and for racing my choice is', list2[2], '.')\n"
   ]
  },
  {
   "cell_type": "code",
   "execution_count": 10,
   "metadata": {},
   "outputs": [
    {
     "name": "stdout",
     "output_type": "stream",
     "text": [
      "Dear Ashraf I would like to have you on dinner with me this evening.\n",
      "Dear Ahsan I would like to have you on dinner with me this evening.\n",
      "Dear Umar I would like to have you on dinner with me this evening.\n"
     ]
    }
   ],
   "source": [
    "list3 = ['Ashraf', 'Ahsan', 'Umar']\n",
    "\n",
    "print('Dear', list3[0], 'I would like to have you on dinner with me this evening.')\n",
    "print('Dear', list3[1], 'I would like to have you on dinner with me this evening.')\n",
    "print('Dear', list3[2], 'I would like to have you on dinner with me this evening.')"
   ]
  },
  {
   "cell_type": "code",
   "execution_count": 16,
   "metadata": {},
   "outputs": [
    {
     "name": "stdout",
     "output_type": "stream",
     "text": [
      "['Ashraf', 'Ahsan', 'Umar']\n",
      "['Ashraf', 'Ahsan', 'Haroon']\n",
      "Dear Haroon I would like to have you on dinner with me this evening as the previous person could not join me.\n"
     ]
    }
   ],
   "source": [
    "list4 = ['Ashraf', 'Ahsan', 'Umar']\n",
    "print(list4)\n",
    "list4[2] = 'Haroon'\n",
    "print(list4)\n",
    "print('Dear', list4[2], 'I would like to have you on dinner with me this evening as the previous person could not join me.')"
   ]
  },
  {
   "cell_type": "code",
   "execution_count": 29,
   "metadata": {},
   "outputs": [
    {
     "name": "stdout",
     "output_type": "stream",
     "text": [
      "['Ashraf', 'Ahsan', 'Umar']\n",
      "['Akbar', 'Ashraf', 'Ahsan', 'Umar', 'Saghir']\n"
     ]
    }
   ],
   "source": [
    "list5 = ['Ashraf', 'Ahsan', 'Umar']\n",
    "print(list5)\n",
    "list5.insert(0, 'Akbar')\n",
    "list5.append( \"Saghir\")\n",
    "print(list5)\n",
    "\n",
    "\n",
    "\n"
   ]
  },
  {
   "cell_type": "code",
   "execution_count": 58,
   "metadata": {},
   "outputs": [
    {
     "name": "stdout",
     "output_type": "stream",
     "text": [
      "We coordially invite the following members to dinner at out place.\n",
      "\n",
      "Akbar\n",
      "Ashraf\n",
      "Ahsan\n",
      "Umar\n",
      "Saghir\n",
      "\n",
      "\n",
      "Sorry Mr. Saghir we cannot invite you anymore.\n",
      "We coordially invite the following members to dinner at out place.\n",
      "\n",
      "Akbar\n",
      "Ashraf\n",
      "Ahsan\n",
      "Umar\n",
      "\n",
      "\n",
      "Sorry Mr. Umar we cannot invite you anymore.\n",
      "We coordially invite the following members to dinner at out place.\n",
      "\n",
      "Akbar\n",
      "Ashraf\n",
      "Ahsan\n",
      "\n",
      "\n",
      "Sorry Mr. Ahsan we cannot invite you anymore.\n",
      "['Akbar', 'Ashraf']\n",
      "['Ashraf']\n",
      "[]\n"
     ]
    }
   ],
   "source": [
    "list6 = ['Akbar', 'Ashraf', 'Ahsan', 'Umar', 'Saghir']\n",
    "print('We coordially invite the following members to dinner at out place.\\n')\n",
    "for name in list6:\n",
    "    print(name)\n",
    "print('\\n')\n",
    "rm_name = list6.pop()\n",
    "print('Sorry Mr.',rm_name, 'we cannot invite you anymore.')\n",
    "\n",
    "print('We coordially invite the following members to dinner at out place.\\n')\n",
    "for name in list6:\n",
    "    print(name)\n",
    "print('\\n')\n",
    "rm_name = list6.pop()\n",
    "print('Sorry Mr.',rm_name, 'we cannot invite you anymore.')\n",
    "\n",
    "print('We coordially invite the following members to dinner at out place.\\n')\n",
    "for name in list6:\n",
    "    print(name)\n",
    "print('\\n')\n",
    "rm_name = list6.pop()\n",
    "print('Sorry Mr.',rm_name, 'we cannot invite you anymore.')\n",
    "\n",
    "print(list6)\n",
    "del list6[0]\n",
    "print(list6)\n",
    "del list6[0]\n",
    "print(list6)\n"
   ]
  },
  {
   "cell_type": "code",
   "execution_count": 68,
   "metadata": {},
   "outputs": [
    {
     "name": "stdout",
     "output_type": "stream",
     "text": [
      "['Turkey', 'Dubai', 'Malaysia', 'Sweden', 'Italy']\n",
      "\n",
      "Sorted list:\n",
      "['Dubai', 'Italy', 'Malaysia', 'Sweden', 'Turkey']\n",
      "\n",
      "Original list:\n",
      "['Turkey', 'Dubai', 'Malaysia', 'Sweden', 'Italy']\n",
      "\n",
      "Reverse Sorted list:\n",
      "['Turkey', 'Sweden', 'Malaysia', 'Italy', 'Dubai']\n",
      "\n",
      "Original list Sorted:\n",
      "['Dubai', 'Italy', 'Malaysia', 'Sweden', 'Turkey']\n",
      "\n",
      "Original list Sorting reversed:\n",
      "['Turkey', 'Sweden', 'Malaysia', 'Italy', 'Dubai']\n"
     ]
    }
   ],
   "source": [
    "list7 = ['Turkey', 'Dubai', 'Malaysia', 'Sweden', 'Italy']\n",
    "print(list7)\n",
    "\n",
    "print('\\nSorted list:')\n",
    "sorted_list = sorted(list7)\n",
    "print(sorted_list)\n",
    "\n",
    "print('\\nOriginal list:')\n",
    "print(list7)\n",
    "\n",
    "print('\\nReverse Sorted list:')\n",
    "sorted_list_rev = sorted(list7, reverse=True)\n",
    "print(sorted_list_rev)\n",
    "\n",
    "\n",
    "print('\\nOriginal list sorted:')\n",
    "list7.sort()\n",
    "print(list7)\n",
    "\n",
    "\n",
    "print('\\nOriginal list sorted reversed:')\n",
    "list7.reverse()\n",
    "print(list7)\n",
    "\n",
    "\n"
   ]
  },
  {
   "cell_type": "code",
   "execution_count": null,
   "metadata": {},
   "outputs": [],
   "source": []
  }
 ],
 "metadata": {
  "kernelspec": {
   "display_name": "Python 3",
   "language": "python",
   "name": "python3"
  },
  "language_info": {
   "codemirror_mode": {
    "name": "ipython",
    "version": 3
   },
   "file_extension": ".py",
   "mimetype": "text/x-python",
   "name": "python",
   "nbconvert_exporter": "python",
   "pygments_lexer": "ipython3",
   "version": "3.12.6"
  }
 },
 "nbformat": 4,
 "nbformat_minor": 2
}
