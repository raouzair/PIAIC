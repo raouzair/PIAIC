{
 "cells": [
  {
   "cell_type": "code",
   "execution_count": 49,
   "metadata": {},
   "outputs": [
    {
     "name": "stdout",
     "output_type": "stream",
     "text": [
      "You entered the following numbers:\n",
      " 2 3 4\n",
      "\n",
      "The sum of the numners you entered is: 9 \n",
      "\n",
      "2 is even.\n",
      "3 is odd.\n",
      "4 is even.\n",
      "\n",
      "\n",
      "The square of 2 is 4\n",
      "The square of 3 is 9\n",
      "The square of 4 is 16\n",
      "\n",
      "\n",
      "The result of sum, which is 9 is not Prime\n"
     ]
    }
   ],
   "source": [
    "\n",
    "numbers = []\n",
    "count = 3       #count = int(input(\"How many numbers do you want to enter? \"))\n",
    "for i in range(count):\n",
    "    while True:\n",
    "        try:\n",
    "            number = int(input(f\"Enter integer number {i + 1}: \"))\n",
    "            numbers.append(number)\n",
    "            break\n",
    "        except ValueError:\n",
    "            print(\"Please enter a valid integer.\")\n",
    "\n",
    "print(\"You entered the following numbers:\\n\", numbers[0], numbers[1], numbers[2])\n",
    "sum = numbers[0] + numbers[1] + numbers[2]\n",
    "print('\\nThe sum of the numners you entered is:',sum,'\\n')\n",
    "\n",
    "if numbers[0] % 2 == 0:\n",
    "        print(numbers[0], \"is even.\")\n",
    "else:\n",
    "        print(numbers[0], \"is odd.\")\n",
    "\n",
    "if numbers[1] % 2 == 0:\n",
    "        print(numbers[1], \"is even.\")\n",
    "else:\n",
    "        print(numbers[1], \"is odd.\")\n",
    "\n",
    "if numbers[2] % 2 == 0:\n",
    "        print(numbers[2], \"is even.\")\n",
    "else:\n",
    "        print(numbers[2], \"is odd.\")\n",
    "\n",
    "print('\\n')\n",
    "sq1 = numbers[0] * numbers[0]\n",
    "print('The square of',numbers[0],'is',sq1)\n",
    "sq2 = numbers[1] * numbers[1]\n",
    "print('The square of',numbers[1],'is',sq2)\n",
    "sq3 = numbers[2] * numbers[2]\n",
    "print('The square of',numbers[2],'is',sq3)\n",
    "print('\\n')\n",
    "\n",
    "n = sum\n",
    "for i in range(2, int(n**0.5) + 1):\n",
    "        if n % i == 0:\n",
    "             r = 'is Prime'\n",
    "        r = 'is not Prime'\n",
    "\n",
    "print('The result of sum, which is', sum, r)\n",
    "\n"
   ]
  }
 ],
 "metadata": {
  "kernelspec": {
   "display_name": "Python 3",
   "language": "python",
   "name": "python3"
  },
  "language_info": {
   "codemirror_mode": {
    "name": "ipython",
    "version": 3
   },
   "file_extension": ".py",
   "mimetype": "text/x-python",
   "name": "python",
   "nbconvert_exporter": "python",
   "pygments_lexer": "ipython3",
   "version": "3.12.6"
  }
 },
 "nbformat": 4,
 "nbformat_minor": 2
}
