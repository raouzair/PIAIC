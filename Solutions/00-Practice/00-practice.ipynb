{
 "cells": [
  {
   "cell_type": "code",
   "execution_count": 1,
   "metadata": {},
   "outputs": [
    {
     "name": "stdout",
     "output_type": "stream",
     "text": [
      "Before function call, x is: 140722288724536\n",
      "Inside function (before modification num is): 140722288724536\n",
      "Inside function (after modification num is): 140722288724696\n",
      "After function call, x is: 140722288724536\n"
     ]
    }
   ],
   "source": [
    "def modify_value(num: int):\n",
    "    print(\"Inside function (before modification num is):\", id(num))\n",
    "    num = 10\n",
    "    print(\"Inside function (after modification num is):\", id(num))\n",
    "\n",
    "x = 5\n",
    "print(\"Before function call, x is:\", id(x))\n",
    "modify_value(x)\n",
    "print(\"After function call, x is:\", id(x))"
   ]
  },
  {
   "cell_type": "code",
   "execution_count": 2,
   "metadata": {},
   "outputs": [
    {
     "name": "stdout",
     "output_type": "stream",
     "text": [
      "Before function call: 2699851076416\n",
      "Inside function (before modification): 2699851076416\n",
      "Inside function (after modification): 2699851076416\n",
      "After function call: 2699851076416\n"
     ]
    }
   ],
   "source": [
    "\n",
    "def modify_list(lst: list):\n",
    "    print(\"Inside function (before modification):\", id(lst))\n",
    "    lst.append(4)\n",
    "    print(\"Inside function (after modification):\", id(lst))\n",
    "\n",
    "my_list = [1, 2, 3]\n",
    "print(\"Before function call:\", id(my_list))\n",
    "modify_list(my_list)\n",
    "print(\"After function call:\", id(my_list))"
   ]
  },
  {
   "cell_type": "code",
   "execution_count": 5,
   "metadata": {},
   "outputs": [
    {
     "name": "stdout",
     "output_type": "stream",
     "text": [
      "line 1\n",
      "line 2\n",
      "line 3\n"
     ]
    }
   ],
   "source": [
    "# file handeling\n",
    "file = open('file.txt', 'r')\n",
    "data = file.read()\n",
    "print(data)\n",
    "file.close()\n",
    "\n",
    "\n",
    "\n",
    "\n",
    "\n"
   ]
  },
  {
   "cell_type": "code",
   "execution_count": 12,
   "metadata": {},
   "outputs": [
    {
     "name": "stdout",
     "output_type": "stream",
     "text": [
      "line 1\n",
      "\n"
     ]
    }
   ],
   "source": [
    "# file handeling\n",
    "file = open('file.txt', 'r')\n",
    "data = file.readline()\n",
    "print(data)\n",
    "file.close()"
   ]
  },
  {
   "cell_type": "code",
   "execution_count": 9,
   "metadata": {},
   "outputs": [
    {
     "name": "stdout",
     "output_type": "stream",
     "text": [
      "line 1\n",
      "line 2\n",
      "line 3\n"
     ]
    }
   ],
   "source": [
    "# file handeling by using with\n",
    "with open('file.txt', 'r') as file:\n",
    "    content = file.read()\n",
    "    print(content)\n"
   ]
  }
 ],
 "metadata": {
  "kernelspec": {
   "display_name": "Python 3",
   "language": "python",
   "name": "python3"
  },
  "language_info": {
   "codemirror_mode": {
    "name": "ipython",
    "version": 3
   },
   "file_extension": ".py",
   "mimetype": "text/x-python",
   "name": "python",
   "nbconvert_exporter": "python",
   "pygments_lexer": "ipython3",
   "version": "3.12.6"
  }
 },
 "nbformat": 4,
 "nbformat_minor": 2
}
