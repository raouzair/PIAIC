{
 "cells": [
  {
   "cell_type": "code",
   "execution_count": 5,
   "metadata": {},
   "outputs": [
    {
     "ename": "SyntaxError",
     "evalue": "invalid syntax. Maybe you meant '==' or ':=' instead of '='? (2176698964.py, line 13)",
     "output_type": "error",
     "traceback": [
      "\u001b[1;36m  Cell \u001b[1;32mIn[5], line 13\u001b[1;36m\u001b[0m\n\u001b[1;33m    if opr = 1\u001b[0m\n\u001b[1;37m       ^\u001b[0m\n\u001b[1;31mSyntaxError\u001b[0m\u001b[1;31m:\u001b[0m invalid syntax. Maybe you meant '==' or ':=' instead of '='?\n"
     ]
    }
   ],
   "source": [
    "print('Please enter the first number.')\n",
    "x = input()\n",
    "print('Please enter the second number.')\n",
    "y = input()\n",
    "\n",
    "print('The entered numbers are',x,'and',y,'\\n')\n",
    "\n",
    "print('Please choose operation to perform. \\n1 add \\n2 subtract \\n3 divide \\n4 multiply ')\n",
    "opr = input()\n",
    "\n",
    "result = 0\n",
    "\n",
    "if opr = 1\n",
    "        result == x + y\n",
    "        print('The sum is',result)\n",
    "else if opr = 2\n",
    "        result == x - y\n",
    "        print('The difference is',result)\n",
    "else if opr = 3\n",
    "        result == x/y\n",
    "        print(result)\n",
    "\n",
    "\n",
    "    \n",
    "\n"
   ]
  }
 ],
 "metadata": {
  "kernelspec": {
   "display_name": "Python 3",
   "language": "python",
   "name": "python3"
  },
  "language_info": {
   "codemirror_mode": {
    "name": "ipython",
    "version": 3
   },
   "file_extension": ".py",
   "mimetype": "text/x-python",
   "name": "python",
   "nbconvert_exporter": "python",
   "pygments_lexer": "ipython3",
   "version": "3.12.6"
  }
 },
 "nbformat": 4,
 "nbformat_minor": 2
}
